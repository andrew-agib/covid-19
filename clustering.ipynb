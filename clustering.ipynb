{
 "cells": [
  {
   "cell_type": "code",
   "execution_count": 1,
   "metadata": {},
   "outputs": [],
   "source": [
    "# Import required packages\n",
    "import pandas as pd\n",
    "from sklearn.preprocessing import MinMaxScaler\n",
    "from sklearn.cluster import KMeans\n",
    "import matplotlib.pyplot as plt"
   ]
  },
  {
   "cell_type": "code",
   "execution_count": 2,
   "metadata": {},
   "outputs": [
    {
     "data": {
      "text/html": [
       "<div>\n",
       "<style scoped>\n",
       "    .dataframe tbody tr th:only-of-type {\n",
       "        vertical-align: middle;\n",
       "    }\n",
       "\n",
       "    .dataframe tbody tr th {\n",
       "        vertical-align: top;\n",
       "    }\n",
       "\n",
       "    .dataframe thead th {\n",
       "        text-align: right;\n",
       "    }\n",
       "</style>\n",
       "<table border=\"1\" class=\"dataframe\">\n",
       "  <thead>\n",
       "    <tr style=\"text-align: right;\">\n",
       "      <th></th>\n",
       "      <th>men</th>\n",
       "      <th>female</th>\n",
       "      <th>dependency</th>\n",
       "      <th>density</th>\n",
       "      <th>cases</th>\n",
       "    </tr>\n",
       "  </thead>\n",
       "  <tbody>\n",
       "    <tr>\n",
       "      <th>0</th>\n",
       "      <td>13277.075</td>\n",
       "      <td>13268.789</td>\n",
       "      <td>81.094141</td>\n",
       "      <td>56.156764</td>\n",
       "      <td>0.816381</td>\n",
       "    </tr>\n",
       "    <tr>\n",
       "      <th>1</th>\n",
       "      <td>29216.012</td>\n",
       "      <td>30092.678</td>\n",
       "      <td>52.231467</td>\n",
       "      <td>48.890593</td>\n",
       "      <td>4.747897</td>\n",
       "    </tr>\n",
       "    <tr>\n",
       "      <th>2</th>\n",
       "      <td>10444.713</td>\n",
       "      <td>10458.565</td>\n",
       "      <td>87.903957</td>\n",
       "      <td>76.400870</td>\n",
       "      <td>0.908219</td>\n",
       "    </tr>\n",
       "    <tr>\n",
       "      <th>3</th>\n",
       "      <td>104469.637</td>\n",
       "      <td>101669.950</td>\n",
       "      <td>85.962354</td>\n",
       "      <td>226.335504</td>\n",
       "      <td>0.806160</td>\n",
       "    </tr>\n",
       "    <tr>\n",
       "      <th>4</th>\n",
       "      <td>8170.785</td>\n",
       "      <td>8573.145</td>\n",
       "      <td>84.161070</td>\n",
       "      <td>86.967901</td>\n",
       "      <td>2.293879</td>\n",
       "    </tr>\n",
       "  </tbody>\n",
       "</table>\n",
       "</div>"
      ],
      "text/plain": [
       "          men      female  dependency     density     cases\n",
       "0   13277.075   13268.789   81.094141   56.156764  0.816381\n",
       "1   29216.012   30092.678   52.231467   48.890593  4.747897\n",
       "2   10444.713   10458.565   87.903957   76.400870  0.908219\n",
       "3  104469.637  101669.950   85.962354  226.335504  0.806160\n",
       "4    8170.785    8573.145   84.161070   86.967901  2.293879"
      ]
     },
     "execution_count": 2,
     "metadata": {},
     "output_type": "execute_result"
    }
   ],
   "source": [
    "data = pd.read_excel(r'C:\\Users\\49173\\Desktop\\distrbution.xlsx')\n",
    "data=data[ ['men', 'female', 'dependency', 'density', 'cases']]\n",
    "data.head()"
   ]
  },
  {
   "cell_type": "code",
   "execution_count": 3,
   "metadata": {},
   "outputs": [
    {
     "data": {
      "text/html": [
       "<div>\n",
       "<style scoped>\n",
       "    .dataframe tbody tr th:only-of-type {\n",
       "        vertical-align: middle;\n",
       "    }\n",
       "\n",
       "    .dataframe tbody tr th {\n",
       "        vertical-align: top;\n",
       "    }\n",
       "\n",
       "    .dataframe thead th {\n",
       "        text-align: right;\n",
       "    }\n",
       "</style>\n",
       "<table border=\"1\" class=\"dataframe\">\n",
       "  <thead>\n",
       "    <tr style=\"text-align: right;\">\n",
       "      <th></th>\n",
       "      <th>men</th>\n",
       "      <th>female</th>\n",
       "      <th>dependency</th>\n",
       "      <th>density</th>\n",
       "      <th>cases</th>\n",
       "    </tr>\n",
       "  </thead>\n",
       "  <tbody>\n",
       "    <tr>\n",
       "      <th>men</th>\n",
       "      <td>1.000000</td>\n",
       "      <td>0.999713</td>\n",
       "      <td>-0.051297</td>\n",
       "      <td>-0.000057</td>\n",
       "      <td>-0.005802</td>\n",
       "    </tr>\n",
       "    <tr>\n",
       "      <th>female</th>\n",
       "      <td>0.999713</td>\n",
       "      <td>1.000000</td>\n",
       "      <td>-0.047549</td>\n",
       "      <td>-0.001576</td>\n",
       "      <td>-0.002578</td>\n",
       "    </tr>\n",
       "    <tr>\n",
       "      <th>dependency</th>\n",
       "      <td>-0.051297</td>\n",
       "      <td>-0.047549</td>\n",
       "      <td>1.000000</td>\n",
       "      <td>-0.250771</td>\n",
       "      <td>0.032866</td>\n",
       "    </tr>\n",
       "    <tr>\n",
       "      <th>density</th>\n",
       "      <td>-0.000057</td>\n",
       "      <td>-0.001576</td>\n",
       "      <td>-0.250771</td>\n",
       "      <td>1.000000</td>\n",
       "      <td>0.005766</td>\n",
       "    </tr>\n",
       "    <tr>\n",
       "      <th>cases</th>\n",
       "      <td>-0.005802</td>\n",
       "      <td>-0.002578</td>\n",
       "      <td>0.032866</td>\n",
       "      <td>0.005766</td>\n",
       "      <td>1.000000</td>\n",
       "    </tr>\n",
       "  </tbody>\n",
       "</table>\n",
       "</div>"
      ],
      "text/plain": [
       "                 men    female  dependency   density     cases\n",
       "men         1.000000  0.999713   -0.051297 -0.000057 -0.005802\n",
       "female      0.999713  1.000000   -0.047549 -0.001576 -0.002578\n",
       "dependency -0.051297 -0.047549    1.000000 -0.250771  0.032866\n",
       "density    -0.000057 -0.001576   -0.250771  1.000000  0.005766\n",
       "cases      -0.005802 -0.002578    0.032866  0.005766  1.000000"
      ]
     },
     "execution_count": 3,
     "metadata": {},
     "output_type": "execute_result"
    }
   ],
   "source": [
    "data.corr()"
   ]
  },
  {
   "cell_type": "code",
   "execution_count": 4,
   "metadata": {},
   "outputs": [],
   "source": [
    "Sum_of_squared_distances = []\n",
    "K = range(1,15)\n",
    "for k in K:\n",
    "    km = KMeans(n_clusters=k)\n",
    "    km = km.fit(data)\n",
    "    Sum_of_squared_distances.append(km.inertia_)"
   ]
  },
  {
   "cell_type": "code",
   "execution_count": 5,
   "metadata": {},
   "outputs": [
    {
     "data": {
      "image/png": "[encoded data removed]",
      "text/plain": [
       "<Figure size 432x288 with 1 Axes>"
      ]
     },
     "metadata": {
      "needs_background": "light"
     },
     "output_type": "display_data"
    }
   ],
   "source": [
    "plt.plot(K, Sum_of_squared_distances, 'bx-')\n",
    "plt.xlabel('k')\n",
    "plt.ylabel('Sum_of_squared_distances')\n",
    "plt.title('Elbow Method For Optimal k')\n",
    "plt.show()"
   ]
  },
  {
   "cell_type": "code",
   "execution_count": 14,
   "metadata": {},
   "outputs": [
    {
     "name": "stdout",
     "output_type": "stream",
     "text": [
      "          men      female  dependency     density     cases  Cluster\n",
      "0   13277.075   13268.789   81.094141   56.156764  0.816381        0\n",
      "1   29216.012   30092.678   52.231467   48.890593  4.747897        0\n",
      "2   10444.713   10458.565   87.903957   76.400870  0.908219        0\n",
      "3  104469.637  101669.950   85.962354  226.335504  0.806160        0\n",
      "4    8170.785    8573.145   84.161070   86.967901  2.293879        0\n"
     ]
    }
   ],
   "source": [
    "import pandas as pd\n",
    "from sklearn.datasets.samples_generator import make_blobs\n",
    "from sklearn.cluster import KMeans\n",
    "\n",
    "X, _ = make_blobs(n_samples=100, centers=2, n_features=5)\n",
    "\n",
    "df = pd.DataFrame(X, columns=['men', 'female', 'dependency', 'density', 'cases'])\n",
    "\n",
    "kmeans = KMeans(n_clusters=2)\n",
    "\n",
    "y = kmeans.fit_predict(data[['men', 'female', 'dependency', 'density', 'cases']])\n",
    "\n",
    "data['Cluster'] = y\n",
    "\n",
    "print(data.head())"
   ]
  },
  {
   "cell_type": "code",
   "execution_count": null,
   "metadata": {},
   "outputs": [],
   "source": []
  }
 ],
 "metadata": {
  "kernelspec": {
   "display_name": "Python 3",
   "language": "python",
   "name": "python3"
  },
  "language_info": {
   "codemirror_mode": {
    "name": "ipython",
    "version": 3
   },
   "file_extension": ".py",
   "mimetype": "text/x-python",
   "name": "python",
   "nbconvert_exporter": "python",
   "pygments_lexer": "ipython3",
   "version": "3.7.3"
  }
 },
 "nbformat": 4,
 "nbformat_minor": 2
}
